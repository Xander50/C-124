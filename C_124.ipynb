{
  "nbformat": 4,
  "nbformat_minor": 0,
  "metadata": {
    "colab": {
      "provenance": [],
      "authorship_tag": "ABX9TyMpAUB9xw5fXnuOYCOMeXMw",
      "include_colab_link": true
    },
    "kernelspec": {
      "name": "python3",
      "display_name": "Python 3"
    },
    "language_info": {
      "name": "python"
    }
  },
  "cells": [
    {
      "cell_type": "markdown",
      "metadata": {
        "id": "view-in-github",
        "colab_type": "text"
      },
      "source": [
        "<a href=\"https://colab.research.google.com/github/Xander50/C-124/blob/main/C_124.ipynb\" target=\"_parent\"><img src=\"https://colab.research.google.com/assets/colab-badge.svg\" alt=\"Open In Colab\"/></a>"
      ]
    },
    {
      "cell_type": "code",
      "execution_count": 1,
      "metadata": {
        "colab": {
          "base_uri": "https://localhost:8080/"
        },
        "id": "LAqtk6Rzowqz",
        "outputId": "75b79989-712b-40b0-ec5f-6cb127376d47"
      },
      "outputs": [
        {
          "output_type": "stream",
          "name": "stdout",
          "text": [
            "[5, 1, 2, 9, 21]\n"
          ]
        }
      ],
      "source": [
        "A=[5,1,2,9,21]\n",
        "print(A)\n"
      ]
    },
    {
      "cell_type": "code",
      "source": [
        "B=[[2,9,6],[4,3,8],[7,5,1]]\n",
        "print(B)"
      ],
      "metadata": {
        "colab": {
          "base_uri": "https://localhost:8080/"
        },
        "id": "asR2gqkqpKWw",
        "outputId": "295043ea-beaa-4cb9-a905-f17ca1bd7bc7"
      },
      "execution_count": 3,
      "outputs": [
        {
          "output_type": "stream",
          "name": "stdout",
          "text": [
            "[[2, 9, 6], [4, 3, 8], [7, 5, 1]]\n"
          ]
        }
      ]
    },
    {
      "cell_type": "code",
      "source": [
        "import numpy as np\n",
        "arr=np.array([3,0,4,6,1])\n",
        "print(arr)\n",
        "print(type(arr))"
      ],
      "metadata": {
        "colab": {
          "base_uri": "https://localhost:8080/"
        },
        "id": "YbOk_xI0pgCF",
        "outputId": "1e18100e-2dd6-479a-b3b5-e1a6a498d8ca"
      },
      "execution_count": 5,
      "outputs": [
        {
          "output_type": "stream",
          "name": "stdout",
          "text": [
            "[3 0 4 6 1]\n",
            "<class 'numpy.ndarray'>\n"
          ]
        }
      ]
    },
    {
      "cell_type": "code",
      "source": [
        "arr2=np.array([[3,5,1],[0,6,2],[1,4,8]])\n",
        "print(arr2)\n",
        "print(type(arr2))"
      ],
      "metadata": {
        "colab": {
          "base_uri": "https://localhost:8080/"
        },
        "id": "klMlkdqLp9k9",
        "outputId": "9ee5bcdb-2c3e-4b4b-97cb-2e3aaf0dbbd9"
      },
      "execution_count": 8,
      "outputs": [
        {
          "output_type": "execute_result",
          "data": {
            "text/plain": [
              "numpy.ndarray"
            ]
          },
          "metadata": {},
          "execution_count": 8
        }
      ]
    },
    {
      "cell_type": "code",
      "source": [
        "arr3=np.array([[3,5,1],['Alexander',15,True],[1,4,8]])\n",
        "print(arr3)\n",
        "print(type(arr3))"
      ],
      "metadata": {
        "colab": {
          "base_uri": "https://localhost:8080/"
        },
        "id": "f14ftt0_qiDN",
        "outputId": "c5e582aa-4935-43a3-ce56-ed57d4e294f0"
      },
      "execution_count": 9,
      "outputs": [
        {
          "output_type": "stream",
          "name": "stdout",
          "text": [
            "[['3' '5' '1']\n",
            " ['Alexander' '15' 'True']\n",
            " ['1' '4' '8']]\n",
            "<class 'numpy.ndarray'>\n"
          ]
        }
      ]
    },
    {
      "cell_type": "code",
      "source": [
        "print(A)\n",
        "print(B)\n",
        "print(A[3])"
      ],
      "metadata": {
        "colab": {
          "base_uri": "https://localhost:8080/"
        },
        "id": "rFHCPQMVq07m",
        "outputId": "6d0d8a1a-5889-49df-e433-1f859878247a"
      },
      "execution_count": 11,
      "outputs": [
        {
          "output_type": "stream",
          "name": "stdout",
          "text": [
            "[5, 1, 2, 9, 21]\n",
            "[[2, 9, 6], [4, 3, 8], [7, 5, 1]]\n",
            "9\n"
          ]
        }
      ]
    },
    {
      "cell_type": "code",
      "source": [
        "print(arr3[1])"
      ],
      "metadata": {
        "colab": {
          "base_uri": "https://localhost:8080/"
        },
        "id": "Nb-W9VYrrCy8",
        "outputId": "810aee2e-07bc-491b-cd43-26ad0944271b"
      },
      "execution_count": 12,
      "outputs": [
        {
          "output_type": "stream",
          "name": "stdout",
          "text": [
            "['Alexander' '15' 'True']\n"
          ]
        }
      ]
    },
    {
      "cell_type": "code",
      "source": [
        "print(arr3[1][0])"
      ],
      "metadata": {
        "colab": {
          "base_uri": "https://localhost:8080/"
        },
        "id": "RJSVihObrQ1d",
        "outputId": "9f9c57e2-523f-4c34-b6b2-d6609f98802f"
      },
      "execution_count": 13,
      "outputs": [
        {
          "output_type": "stream",
          "name": "stdout",
          "text": [
            "Alexander\n"
          ]
        }
      ]
    },
    {
      "cell_type": "code",
      "source": [
        "print(arr2)\n",
        "print(\"___________\")\n",
        "arr2[1,0]=7\n",
        "print(arr2)\n",
        "print(\"#########\")\n",
        "arr2[2,2]=0\n",
        "print(arr2)"
      ],
      "metadata": {
        "colab": {
          "base_uri": "https://localhost:8080/"
        },
        "id": "8ne6-nuWrdvN",
        "outputId": "6241555b-a922-4c4f-bdf1-efd941d22a0b"
      },
      "execution_count": 17,
      "outputs": [
        {
          "output_type": "stream",
          "name": "stdout",
          "text": [
            "[[3 5 1]\n",
            " [7 7 2]\n",
            " [1 4 8]]\n",
            "___________\n",
            "[[3 5 1]\n",
            " [7 7 2]\n",
            " [1 4 8]]\n",
            "#########\n",
            "[[3 5 1]\n",
            " [7 7 2]\n",
            " [1 4 0]]\n"
          ]
        }
      ]
    },
    {
      "cell_type": "code",
      "source": [
        "a=np.array([[2,7],[9,5]])\n",
        "b=np.array([[6,1],[5,3]])\n",
        "rows=2\n",
        "cols=2\n",
        "c=[[0,0],[0,0]]\n",
        "for i in range(rows):\n",
        "  for j in range(cols):\n",
        "    c[i][j]=a[i][j]+b[i][j]\n",
        "print(a,\"\\n\")\n",
        "print(b,\"\\n\")\n",
        "print(c,\"\\n\")"
      ],
      "metadata": {
        "colab": {
          "base_uri": "https://localhost:8080/"
        },
        "id": "cczfvb3QswLf",
        "outputId": "71646ee2-0c0b-4baa-a156-8920d886c269"
      },
      "execution_count": 19,
      "outputs": [
        {
          "output_type": "stream",
          "name": "stdout",
          "text": [
            "[[2 7]\n",
            " [9 5]] \n",
            "\n",
            "[[6 1]\n",
            " [5 3]] \n",
            "\n",
            "[[8, 8], [14, 8]] \n",
            "\n"
          ]
        }
      ]
    },
    {
      "cell_type": "code",
      "source": [
        "a=np.array([[2,7],[9,5]])\n",
        "b=np.array([[6,1],[5,3]])\n",
        "rows=2\n",
        "cols=2\n",
        "c=[[0,0],[0,0]]\n",
        "for i in range(rows):\n",
        "  for j in range(cols):\n",
        "    c[i][j]=a[i][j]-b[i][j]\n",
        "print(a,\"\\n\")\n",
        "print(b,\"\\n\")\n",
        "print(c,\"\\n\")"
      ],
      "metadata": {
        "colab": {
          "base_uri": "https://localhost:8080/"
        },
        "id": "QKXQn1Kit30-",
        "outputId": "e7c5720c-5bfb-40fa-bf32-58ecf783eafe"
      },
      "execution_count": 20,
      "outputs": [
        {
          "output_type": "stream",
          "name": "stdout",
          "text": [
            "[[2 7]\n",
            " [9 5]] \n",
            "\n",
            "[[6 1]\n",
            " [5 3]] \n",
            "\n",
            "[[-4, 6], [4, 2]] \n",
            "\n"
          ]
        }
      ]
    },
    {
      "cell_type": "code",
      "source": [
        "a=np.array([[2,7],[9,5]])\n",
        "b=np.array([[6,1],[5,3]])\n",
        "rows=2\n",
        "cols=2\n",
        "c=[[0,0],[0,0]]\n",
        "for i in range(rows):\n",
        "  for j in range(cols):\n",
        "    c[i][j]=a[i][j]*b[i][j]\n",
        "print(a,\"\\n\")\n",
        "print(b,\"\\n\")\n",
        "print(c,\"\\n\")"
      ],
      "metadata": {
        "colab": {
          "base_uri": "https://localhost:8080/"
        },
        "id": "H4Chkmm8t_e1",
        "outputId": "ef1bc261-57c6-4ab6-f425-b2089c52e9c6"
      },
      "execution_count": 21,
      "outputs": [
        {
          "output_type": "stream",
          "name": "stdout",
          "text": [
            "[[2 7]\n",
            " [9 5]] \n",
            "\n",
            "[[6 1]\n",
            " [5 3]] \n",
            "\n",
            "[[12, 7], [45, 15]] \n",
            "\n"
          ]
        }
      ]
    },
    {
      "cell_type": "code",
      "source": [
        "b1=np.array([[6,1],[5,3],[4,0]])\n",
        "n=5\n",
        "mul=np.zeros([3,2])\n",
        "for i in range(3):\n",
        "  for j in range(1):\n",
        "    mul[i][j]=n*b1[i][j]\n",
        "    print(mul[i][j])\n",
        "for rows in mul:\n",
        "  print(rows)"
      ],
      "metadata": {
        "colab": {
          "base_uri": "https://localhost:8080/"
        },
        "id": "e9wt78pcuKTU",
        "outputId": "ddc12e2a-0d58-4343-a896-ed8c255ac788"
      },
      "execution_count": 23,
      "outputs": [
        {
          "output_type": "stream",
          "name": "stdout",
          "text": [
            "30.0\n",
            "25.0\n",
            "20.0\n",
            "[30.  0.]\n",
            "[25.  0.]\n",
            "[20.  0.]\n"
          ]
        }
      ]
    },
    {
      "cell_type": "code",
      "source": [
        "n=5\n",
        "a1=np.array([2,6,0])\n",
        "a2=np.multiply(a1,n)\n",
        "print(a2)"
      ],
      "metadata": {
        "colab": {
          "base_uri": "https://localhost:8080/"
        },
        "id": "gOw2y-pevPkW",
        "outputId": "f98ac801-d556-465f-da33-2901204e5710"
      },
      "execution_count": 24,
      "outputs": [
        {
          "output_type": "stream",
          "name": "stdout",
          "text": [
            "[10 30  0]\n"
          ]
        }
      ]
    }
  ]
}